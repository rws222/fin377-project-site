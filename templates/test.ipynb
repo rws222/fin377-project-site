{
 "cells": [
  {
   "cell_type": "code",
   "execution_count": 1,
   "id": "3caeb007-efa5-48cf-ad8d-d07484071260",
   "metadata": {
    "tags": []
   },
   "outputs": [],
   "source": [
    "# remove cells with \"remove_input\" tag\n",
    "#jupyter nbconvert nbconvert-example.ipynb --\n",
    "#TagRemovePreprocessor.remove_input_tags='{\"remove_input\"}'\n",
    "\n",
    "import ipywidgets as widgets\n",
    "from IPython.display import display\n",
    "\n",
    "out = widgets.Output(layout={'border': '1px solid black'})\n",
    "out\n",
    "\n",
    "# put all code in this function. This is what happens when an input changes\n",
    "def on_update(b):\n",
    "    print('You selected', risk_aversion.value , 'as your risk aversion')\n",
    "    "
   ]
  },
  {
   "cell_type": "markdown",
   "id": "b99630cf-5049-465a-bc56-515f5a6e0d99",
   "metadata": {
    "tags": []
   },
   "source": [
    "# How much risk is right for you?\n",
    "\n",
    "### What is your risk aversion?"
   ]
  },
  {
   "cell_type": "code",
   "execution_count": 2,
   "id": "73154d2c-4944-4a72-8d89-50fb07275bc9",
   "metadata": {
    "tags": []
   },
   "outputs": [
    {
     "data": {
      "application/vnd.jupyter.widget-view+json": {
       "model_id": "15ddb711c12746d7895402acdf06b399",
       "version_major": 2,
       "version_minor": 0
      },
      "text/plain": [
       "RadioButtons(options=('0.25', '0.50', '0.75', '1.00'), value='0.25')"
      ]
     },
     "metadata": {},
     "output_type": "display_data"
    },
    {
     "data": {
      "application/vnd.jupyter.widget-view+json": {
       "model_id": "7a07c4a46aee4cf4a16728e6d55809c0",
       "version_major": 2,
       "version_minor": 0
      },
      "text/plain": [
       "Output(layout=Layout(border='1px solid black'), outputs=({'output_type': 'display_data', 'data': {}, 'metadata…"
      ]
     },
     "metadata": {},
     "output_type": "display_data"
    }
   ],
   "source": [
    "risk_aversion = widgets.RadioButtons(\n",
    "    options=['0.25', '0.50', '0.75', '1.00'],\n",
    "#    value='pineapple', # Defaults to 'pineapple'\n",
    "#    layout={'width': 'max-content'}, # If the items' names are long\n",
    "    disabled=False,\n",
    "    continuous_update=True\n",
    ")\n",
    "\n",
    "risk_aversion.observe(on_update)\n",
    "with out:\n",
    "    display(risk_aversion)\n",
    "#display(out)\n",
    "out.append_display_data(risk_aversion)\n",
    "display(out)"
   ]
  },
  {
   "cell_type": "code",
   "execution_count": 3,
   "id": "394930c1-3358-4f14-8e66-a4ebb985c391",
   "metadata": {},
   "outputs": [
    {
     "name": "stdout",
     "output_type": "stream",
     "text": [
      "You selected 0.25 as your risk aversion\n"
     ]
    }
   ],
   "source": [
    "print('You selected', risk_aversion.value , 'as your risk aversion')"
   ]
  },
  {
   "cell_type": "markdown",
   "id": "cdc91e19-8d30-4382-8c4c-38fcc8fc6e36",
   "metadata": {},
   "source": [
    "### This is a question\n",
    "\n",
    "- This is an answer\n",
    "- This is an answer\n",
    "- This is an answer\n",
    "- This is an answer\n",
    "\n",
    "\n",
    "# Tell us about your preferences\n",
    "\n",
    "### This is a question\n",
    "\n",
    "- This is an answer\n",
    "- This is an answer\n",
    "- This is an answer\n",
    "- This is an answer\n",
    "\n",
    "### This is a question\n",
    "\n",
    "- This is an answer\n",
    "- This is an answer\n",
    "- This is an answer\n",
    "- This is an answer\n",
    "\n",
    "\n",
    "# Your results\n",
    "\n",
    "### Top Investments\n",
    "\n",
    "### Top Industries\n",
    "\n",
    "### Portfolio Breakdown"
   ]
  }
 ],
 "metadata": {
  "kernelspec": {
   "display_name": "Python 3 (ipykernel)",
   "language": "python",
   "name": "python3"
  },
  "language_info": {
   "codemirror_mode": {
    "name": "ipython",
    "version": 3
   },
   "file_extension": ".py",
   "mimetype": "text/x-python",
   "name": "python",
   "nbconvert_exporter": "python",
   "pygments_lexer": "ipython3",
   "version": "3.9.7"
  }
 },
 "nbformat": 4,
 "nbformat_minor": 5
}
